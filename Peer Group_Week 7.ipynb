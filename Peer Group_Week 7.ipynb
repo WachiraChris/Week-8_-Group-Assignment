{
 "cells": [
  {
   "cell_type": "code",
   "execution_count": null,
   "metadata": {},
   "outputs": [],
   "source": [
    "#Part 1\n",
    "#create a python function using the ceaser cipher method, using:\n",
    "def ceaser_function(plain_text, shift):\n",
    "  result = \"\"\n",
    "  #next, we transverse the plain text using:\n",
    "  for i in range(len(plain_text)):\n",
    "    char = plain_text[i]\n",
    "    # encrypt uppercase characters in plain text\n",
    "    if(char.isupper()):\n",
    "      result +=  chr((ord(char) + shift- 65) %26 + 65)\n",
    "      #Encrypt lowecase characters in plain text\n",
    "    else:\n",
    "      result += chr((ord(char) + shift- 97) %26 + 97)\n",
    "  return result\n",
    "  #test the function above\n",
    "  \n",
    "#collect input from user\n",
    "plain_text = \"ABCDEFGHIJKLMNOPQRSTUVWXYZ\"\n",
    "shift = -3\n",
    "print()\n",
    "print ('plain text is:' + plain_text)\n",
    "print('Shift pattern is:' + str(shift))\n",
    "print('ceaser cipher is:' + ceaser_function(plain_text, shift))\n",
    "\n",
    "\n",
    "print()\n",
    "print()\n",
    "\n",
    "# part 2\n",
    "#create a python function using the ceaser cipher method, using:\n",
    "def ceaser_function(plain_text, shift):\n",
    "  result = \"\"\n",
    "  #next, we transverse the plain text using:\n",
    "  for i in range(len(plain_text)):\n",
    "    char = plain_text[i]\n",
    "    # encrypt uppercase characters in plain text\n",
    "    if(char.isupper()):\n",
    "      result +=  chr((ord(char) + 65 - shift) %26 + 65)\n",
    "      #Encrypt lowecase characters in plain text\n",
    "    else:\n",
    "      result += chr((ord(char) + 97 - shift) %26 + 65)\n",
    "  return result\n",
    "  #test the function above\n",
    "  \n",
    "#collect input from user\n",
    "plain_text = \"THE QUICK BROWN FOX JUMPS OVER THE LAZY DOG\"\n",
    "shift = 3\n",
    "print()\n",
    "print ('Plain text is:' + plain_text)\n",
    "print('Shift pattern is:' + str(shift))\n",
    "print('ceaser cipher is:' + ceaser_function(plain_text, shift))"
   ]
  },
  {
   "attachments": {},
   "cell_type": "markdown",
   "metadata": {},
   "source": []
  }
 ],
 "metadata": {
  "language_info": {
   "name": "python"
  },
  "orig_nbformat": 4
 },
 "nbformat": 4,
 "nbformat_minor": 2
}
